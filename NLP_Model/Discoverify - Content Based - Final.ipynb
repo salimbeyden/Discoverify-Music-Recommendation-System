{
 "cells": [
  {
   "cell_type": "code",
   "execution_count": 1,
   "id": "d369bbdb",
   "metadata": {},
   "outputs": [],
   "source": [
    "import pandas as pd"
   ]
  },
  {
   "cell_type": "code",
   "execution_count": 2,
   "id": "d84eeb88",
   "metadata": {},
   "outputs": [
    {
     "data": {
      "text/html": [
       "<div>\n",
       "<style scoped>\n",
       "    .dataframe tbody tr th:only-of-type {\n",
       "        vertical-align: middle;\n",
       "    }\n",
       "\n",
       "    .dataframe tbody tr th {\n",
       "        vertical-align: top;\n",
       "    }\n",
       "\n",
       "    .dataframe thead th {\n",
       "        text-align: right;\n",
       "    }\n",
       "</style>\n",
       "<table border=\"1\" class=\"dataframe\">\n",
       "  <thead>\n",
       "    <tr style=\"text-align: right;\">\n",
       "      <th></th>\n",
       "      <th>artist</th>\n",
       "      <th>song</th>\n",
       "      <th>link</th>\n",
       "      <th>text</th>\n",
       "    </tr>\n",
       "  </thead>\n",
       "  <tbody>\n",
       "    <tr>\n",
       "      <th>0</th>\n",
       "      <td>ABBA</td>\n",
       "      <td>Ahe's My Kind Of Girl</td>\n",
       "      <td>/a/abba/ahes+my+kind+of+girl_20598417.html</td>\n",
       "      <td>Look at her face, it's a wonderful face  \\nAnd...</td>\n",
       "    </tr>\n",
       "    <tr>\n",
       "      <th>1</th>\n",
       "      <td>ABBA</td>\n",
       "      <td>Andante, Andante</td>\n",
       "      <td>/a/abba/andante+andante_20002708.html</td>\n",
       "      <td>Take it easy with me, please  \\nTouch me gentl...</td>\n",
       "    </tr>\n",
       "    <tr>\n",
       "      <th>2</th>\n",
       "      <td>ABBA</td>\n",
       "      <td>As Good As New</td>\n",
       "      <td>/a/abba/as+good+as+new_20003033.html</td>\n",
       "      <td>I'll never know why I had to go  \\nWhy I had t...</td>\n",
       "    </tr>\n",
       "    <tr>\n",
       "      <th>3</th>\n",
       "      <td>ABBA</td>\n",
       "      <td>Bang</td>\n",
       "      <td>/a/abba/bang_20598415.html</td>\n",
       "      <td>Making somebody happy is a question of give an...</td>\n",
       "    </tr>\n",
       "    <tr>\n",
       "      <th>4</th>\n",
       "      <td>ABBA</td>\n",
       "      <td>Bang-A-Boomerang</td>\n",
       "      <td>/a/abba/bang+a+boomerang_20002668.html</td>\n",
       "      <td>Making somebody happy is a question of give an...</td>\n",
       "    </tr>\n",
       "  </tbody>\n",
       "</table>\n",
       "</div>"
      ],
      "text/plain": [
       "  artist                   song                                        link  \\\n",
       "0   ABBA  Ahe's My Kind Of Girl  /a/abba/ahes+my+kind+of+girl_20598417.html   \n",
       "1   ABBA       Andante, Andante       /a/abba/andante+andante_20002708.html   \n",
       "2   ABBA         As Good As New        /a/abba/as+good+as+new_20003033.html   \n",
       "3   ABBA                   Bang                  /a/abba/bang_20598415.html   \n",
       "4   ABBA       Bang-A-Boomerang      /a/abba/bang+a+boomerang_20002668.html   \n",
       "\n",
       "                                                text  \n",
       "0  Look at her face, it's a wonderful face  \\nAnd...  \n",
       "1  Take it easy with me, please  \\nTouch me gentl...  \n",
       "2  I'll never know why I had to go  \\nWhy I had t...  \n",
       "3  Making somebody happy is a question of give an...  \n",
       "4  Making somebody happy is a question of give an...  "
      ]
     },
     "execution_count": 2,
     "metadata": {},
     "output_type": "execute_result"
    }
   ],
   "source": [
    "# Reading the data and creating data frame\n",
    "df = pd.read_csv(\"spotify_millsongdata.csv\")\n",
    "df.head()"
   ]
  },
  {
   "cell_type": "code",
   "execution_count": 3,
   "id": "3e4acb85",
   "metadata": {},
   "outputs": [
    {
     "data": {
      "text/html": [
       "<div>\n",
       "<style scoped>\n",
       "    .dataframe tbody tr th:only-of-type {\n",
       "        vertical-align: middle;\n",
       "    }\n",
       "\n",
       "    .dataframe tbody tr th {\n",
       "        vertical-align: top;\n",
       "    }\n",
       "\n",
       "    .dataframe thead th {\n",
       "        text-align: right;\n",
       "    }\n",
       "</style>\n",
       "<table border=\"1\" class=\"dataframe\">\n",
       "  <thead>\n",
       "    <tr style=\"text-align: right;\">\n",
       "      <th></th>\n",
       "      <th>artist</th>\n",
       "      <th>song</th>\n",
       "      <th>text</th>\n",
       "    </tr>\n",
       "  </thead>\n",
       "  <tbody>\n",
       "    <tr>\n",
       "      <th>0</th>\n",
       "      <td>ABBA</td>\n",
       "      <td>Ahe's My Kind Of Girl</td>\n",
       "      <td>Look at her face, it's a wonderful face  \\nAnd...</td>\n",
       "    </tr>\n",
       "    <tr>\n",
       "      <th>1</th>\n",
       "      <td>ABBA</td>\n",
       "      <td>Andante, Andante</td>\n",
       "      <td>Take it easy with me, please  \\nTouch me gentl...</td>\n",
       "    </tr>\n",
       "    <tr>\n",
       "      <th>2</th>\n",
       "      <td>ABBA</td>\n",
       "      <td>As Good As New</td>\n",
       "      <td>I'll never know why I had to go  \\nWhy I had t...</td>\n",
       "    </tr>\n",
       "    <tr>\n",
       "      <th>3</th>\n",
       "      <td>ABBA</td>\n",
       "      <td>Bang</td>\n",
       "      <td>Making somebody happy is a question of give an...</td>\n",
       "    </tr>\n",
       "    <tr>\n",
       "      <th>4</th>\n",
       "      <td>ABBA</td>\n",
       "      <td>Bang-A-Boomerang</td>\n",
       "      <td>Making somebody happy is a question of give an...</td>\n",
       "    </tr>\n",
       "  </tbody>\n",
       "</table>\n",
       "</div>"
      ],
      "text/plain": [
       "  artist                   song  \\\n",
       "0   ABBA  Ahe's My Kind Of Girl   \n",
       "1   ABBA       Andante, Andante   \n",
       "2   ABBA         As Good As New   \n",
       "3   ABBA                   Bang   \n",
       "4   ABBA       Bang-A-Boomerang   \n",
       "\n",
       "                                                text  \n",
       "0  Look at her face, it's a wonderful face  \\nAnd...  \n",
       "1  Take it easy with me, please  \\nTouch me gentl...  \n",
       "2  I'll never know why I had to go  \\nWhy I had t...  \n",
       "3  Making somebody happy is a question of give an...  \n",
       "4  Making somebody happy is a question of give an...  "
      ]
     },
     "execution_count": 3,
     "metadata": {},
     "output_type": "execute_result"
    }
   ],
   "source": [
    "# Dropping the link column because it is not needed in this project\n",
    "df = df.drop(\"link\", axis=1)\n",
    "df.head()"
   ]
  },
  {
   "cell_type": "code",
   "execution_count": 4,
   "id": "9d7efc54",
   "metadata": {},
   "outputs": [
    {
     "data": {
      "text/plain": [
       "(57650, 3)"
      ]
     },
     "execution_count": 4,
     "metadata": {},
     "output_type": "execute_result"
    }
   ],
   "source": [
    "# Size of the data frame for reference\n",
    "df.shape"
   ]
  },
  {
   "cell_type": "markdown",
   "id": "8f32fa23",
   "metadata": {},
   "source": [
    "# Text Cleaning"
   ]
  },
  {
   "cell_type": "markdown",
   "id": "007356cc",
   "metadata": {},
   "source": [
    "### In this section, we will clean the text column to get it ready for tokenization."
   ]
  },
  {
   "cell_type": "code",
   "execution_count": 5,
   "id": "2c391a90",
   "metadata": {},
   "outputs": [
    {
     "data": {
      "text/html": [
       "<div>\n",
       "<style scoped>\n",
       "    .dataframe tbody tr th:only-of-type {\n",
       "        vertical-align: middle;\n",
       "    }\n",
       "\n",
       "    .dataframe tbody tr th {\n",
       "        vertical-align: top;\n",
       "    }\n",
       "\n",
       "    .dataframe thead th {\n",
       "        text-align: right;\n",
       "    }\n",
       "</style>\n",
       "<table border=\"1\" class=\"dataframe\">\n",
       "  <thead>\n",
       "    <tr style=\"text-align: right;\">\n",
       "      <th></th>\n",
       "      <th>artist</th>\n",
       "      <th>song</th>\n",
       "      <th>text</th>\n",
       "    </tr>\n",
       "  </thead>\n",
       "  <tbody>\n",
       "    <tr>\n",
       "      <th>0</th>\n",
       "      <td>ABBA</td>\n",
       "      <td>Ahe's My Kind Of Girl</td>\n",
       "      <td>look at her face, it's a wonderful face  \\nand...</td>\n",
       "    </tr>\n",
       "    <tr>\n",
       "      <th>1</th>\n",
       "      <td>ABBA</td>\n",
       "      <td>Andante, Andante</td>\n",
       "      <td>take it easy with me, please  \\ntouch me gentl...</td>\n",
       "    </tr>\n",
       "    <tr>\n",
       "      <th>2</th>\n",
       "      <td>ABBA</td>\n",
       "      <td>As Good As New</td>\n",
       "      <td>i'll never know why i had to go  \\nwhy i had t...</td>\n",
       "    </tr>\n",
       "    <tr>\n",
       "      <th>3</th>\n",
       "      <td>ABBA</td>\n",
       "      <td>Bang</td>\n",
       "      <td>making somebody happy is a question of give an...</td>\n",
       "    </tr>\n",
       "    <tr>\n",
       "      <th>4</th>\n",
       "      <td>ABBA</td>\n",
       "      <td>Bang-A-Boomerang</td>\n",
       "      <td>making somebody happy is a question of give an...</td>\n",
       "    </tr>\n",
       "  </tbody>\n",
       "</table>\n",
       "</div>"
      ],
      "text/plain": [
       "  artist                   song  \\\n",
       "0   ABBA  Ahe's My Kind Of Girl   \n",
       "1   ABBA       Andante, Andante   \n",
       "2   ABBA         As Good As New   \n",
       "3   ABBA                   Bang   \n",
       "4   ABBA       Bang-A-Boomerang   \n",
       "\n",
       "                                                text  \n",
       "0  look at her face, it's a wonderful face  \\nand...  \n",
       "1  take it easy with me, please  \\ntouch me gentl...  \n",
       "2  i'll never know why i had to go  \\nwhy i had t...  \n",
       "3  making somebody happy is a question of give an...  \n",
       "4  making somebody happy is a question of give an...  "
      ]
     },
     "execution_count": 5,
     "metadata": {},
     "output_type": "execute_result"
    }
   ],
   "source": [
    "# Lowercasing all letters so we do treat the same words with differents the same as well.\n",
    "df[\"text\"] = df[\"text\"].str.lower()\n",
    "df.head()"
   ]
  },
  {
   "cell_type": "code",
   "execution_count": 6,
   "id": "714dd2fa",
   "metadata": {},
   "outputs": [
    {
     "data": {
      "text/html": [
       "<div>\n",
       "<style scoped>\n",
       "    .dataframe tbody tr th:only-of-type {\n",
       "        vertical-align: middle;\n",
       "    }\n",
       "\n",
       "    .dataframe tbody tr th {\n",
       "        vertical-align: top;\n",
       "    }\n",
       "\n",
       "    .dataframe thead th {\n",
       "        text-align: right;\n",
       "    }\n",
       "</style>\n",
       "<table border=\"1\" class=\"dataframe\">\n",
       "  <thead>\n",
       "    <tr style=\"text-align: right;\">\n",
       "      <th></th>\n",
       "      <th>artist</th>\n",
       "      <th>song</th>\n",
       "      <th>text</th>\n",
       "    </tr>\n",
       "  </thead>\n",
       "  <tbody>\n",
       "    <tr>\n",
       "      <th>0</th>\n",
       "      <td>ABBA</td>\n",
       "      <td>Ahe's My Kind Of Girl</td>\n",
       "      <td>look at her face, it's a wonderful face   and ...</td>\n",
       "    </tr>\n",
       "    <tr>\n",
       "      <th>1</th>\n",
       "      <td>ABBA</td>\n",
       "      <td>Andante, Andante</td>\n",
       "      <td>take it easy with me, please   touch me gently...</td>\n",
       "    </tr>\n",
       "    <tr>\n",
       "      <th>2</th>\n",
       "      <td>ABBA</td>\n",
       "      <td>As Good As New</td>\n",
       "      <td>i'll never know why i had to go   why i had to...</td>\n",
       "    </tr>\n",
       "    <tr>\n",
       "      <th>3</th>\n",
       "      <td>ABBA</td>\n",
       "      <td>Bang</td>\n",
       "      <td>making somebody happy is a question of give an...</td>\n",
       "    </tr>\n",
       "    <tr>\n",
       "      <th>4</th>\n",
       "      <td>ABBA</td>\n",
       "      <td>Bang-A-Boomerang</td>\n",
       "      <td>making somebody happy is a question of give an...</td>\n",
       "    </tr>\n",
       "  </tbody>\n",
       "</table>\n",
       "</div>"
      ],
      "text/plain": [
       "  artist                   song  \\\n",
       "0   ABBA  Ahe's My Kind Of Girl   \n",
       "1   ABBA       Andante, Andante   \n",
       "2   ABBA         As Good As New   \n",
       "3   ABBA                   Bang   \n",
       "4   ABBA       Bang-A-Boomerang   \n",
       "\n",
       "                                                text  \n",
       "0  look at her face, it's a wonderful face   and ...  \n",
       "1  take it easy with me, please   touch me gently...  \n",
       "2  i'll never know why i had to go   why i had to...  \n",
       "3  making somebody happy is a question of give an...  \n",
       "4  making somebody happy is a question of give an...  "
      ]
     },
     "execution_count": 6,
     "metadata": {},
     "output_type": "execute_result"
    }
   ],
   "source": [
    "# Replacing new line characters with blank spaces\n",
    "df[\"text\"] = df[\"text\"].replace(r\"\\n\", \" \", regex=True)\n",
    "df.head()"
   ]
  },
  {
   "cell_type": "markdown",
   "id": "19c40ace",
   "metadata": {},
   "source": [
    "# Tokenization"
   ]
  },
  {
   "cell_type": "code",
   "execution_count": 7,
   "id": "a569ac01",
   "metadata": {},
   "outputs": [],
   "source": [
    "# pip install nltk\n",
    "import nltk\n",
    "from nltk.stem.porter import PorterStemmer\n",
    "\n",
    "import ssl\n",
    "\n",
    "try:\n",
    "    _create_unverified_https_context = ssl._create_unverified_context\n",
    "except AttributeError:\n",
    "    pass\n",
    "else:\n",
    "    ssl._create_default_https_context = _create_unverified_https_context\n",
    "\n",
    "# nltk.download(\"punkt\")"
   ]
  },
  {
   "cell_type": "code",
   "execution_count": 8,
   "id": "74016d30",
   "metadata": {},
   "outputs": [],
   "source": [
    "# Creating our tokenization function\n",
    "stemmer = PorterStemmer()\n",
    "\n",
    "def tokenization(text):\n",
    "    tokens = nltk.word_tokenize(text)\n",
    "    word_list = [stemmer.stem(i) for i in tokens]\n",
    "    \n",
    "    return \" \".join(word_list)"
   ]
  },
  {
   "cell_type": "code",
   "execution_count": 9,
   "id": "6c43c623",
   "metadata": {},
   "outputs": [
    {
     "name": "stdout",
     "output_type": "stream",
     "text": [
      "Artist: Horrible Histories \tSong: The Monks' Song\n"
     ]
    },
    {
     "data": {
      "text/plain": [
       "\"welcom to our monasteri pleas have a chair good to see you monk so deep in prayer onc the pray 's finish your chore must be done the main rule of a good monk 's life is no fun we have to pray eight time a day seven day a week and copi all these manuscript in write so antiqu i 'll finish off thi letter ' a ' onc i 've plough our field milk the cow , muck the sow , veget peel i 'll be do that and pray too veri well gent , i 'll bid you adieu advenium regnum tuum ( okay brother , i think he 's gone ) now the bishop 's not around throw off these religi gown hunki , chunki , funki monk get down ! it 's not all hymn and prayin ' it 's not all work and no playin ' so let 's start misbehavin ' and get with the funk ! we love to have a parti eat food that is hearti let 's get the boozin ' start drunk like a monk ! play that monki music , funk boy ! just want to check that dure my absenc you 're honour your mealtim vow of silenc althought we did n't oughter we like to hunt and slaughter do n't need no bread and water just funk , funk , funk ! monasteri is jumpin ' parti beat is thumpin ' just lack a certain somethin ' a funki nun ! get in the parti habit , girlfriend ! it 's true that life is tough here but you obey the rule that is clear that 's whi we 're a place of great reput what 's thi ? i see we have a new recruit welcom to our monasteri what 's your name ? she- he ca n't talk and hi name is ... wayn amen ! ah men !\""
      ]
     },
     "execution_count": 9,
     "metadata": {},
     "output_type": "execute_result"
    }
   ],
   "source": [
    "# Selecting a random song from the data frame and passing it through tokenization\n",
    "import random\n",
    "index = random.choice(df[\"text\"].index)\n",
    "print(\"Artist:\", df[\"artist\"][index], \"\\tSong:\", df[\"song\"][index])\n",
    "tokenization(df[\"text\"][index])"
   ]
  },
  {
   "cell_type": "markdown",
   "id": "3469e175",
   "metadata": {},
   "source": [
    "## Sample Data Frame for Computational Ease"
   ]
  },
  {
   "cell_type": "code",
   "execution_count": 10,
   "id": "ba97d237",
   "metadata": {},
   "outputs": [],
   "source": [
    "df = df.sample(3000).reset_index(drop=True)"
   ]
  },
  {
   "cell_type": "code",
   "execution_count": 11,
   "id": "a65dcd26",
   "metadata": {},
   "outputs": [],
   "source": [
    "# Running this cell might take around 3-5 minutes\n",
    "# Applying the tokenization funcion to the whole data set\n",
    "tokenized_data = df[\"text\"].apply(lambda x: tokenization(x))"
   ]
  },
  {
   "cell_type": "markdown",
   "id": "90213dd7",
   "metadata": {},
   "source": [
    "# Vectorizing and Cosine Similarity"
   ]
  },
  {
   "cell_type": "code",
   "execution_count": 12,
   "id": "a2059346",
   "metadata": {},
   "outputs": [],
   "source": [
    "# pip install numpy==1.25.2"
   ]
  },
  {
   "cell_type": "markdown",
   "id": "2d2b571a",
   "metadata": {},
   "source": [
    "If the cell below returns and error, it is because a numpy version older than 1.26.0 is needed.\n",
    "Please run the line above if that is the case."
   ]
  },
  {
   "cell_type": "code",
   "execution_count": 13,
   "id": "2029dfbe",
   "metadata": {},
   "outputs": [],
   "source": [
    "from sklearn.feature_extraction.text import TfidfVectorizer\n",
    "from sklearn.metrics.pairwise import cosine_similarity"
   ]
  },
  {
   "cell_type": "code",
   "execution_count": 14,
   "id": "1a42805d",
   "metadata": {},
   "outputs": [],
   "source": [
    "# Vectorization of the words\n",
    "tfid = TfidfVectorizer(analyzer=\"word\", stop_words=\"english\")"
   ]
  },
  {
   "cell_type": "code",
   "execution_count": 15,
   "id": "efcd3835",
   "metadata": {},
   "outputs": [],
   "source": [
    "sparse_matrix = tfid.fit_transform(tokenized_data)"
   ]
  },
  {
   "cell_type": "code",
   "execution_count": 16,
   "id": "b55a0cf1",
   "metadata": {},
   "outputs": [],
   "source": [
    "similarity = cosine_similarity(sparse_matrix)"
   ]
  },
  {
   "cell_type": "markdown",
   "id": "9f9893d6",
   "metadata": {},
   "source": [
    "# Recommendation"
   ]
  },
  {
   "cell_type": "code",
   "execution_count": 17,
   "id": "9ba849ab",
   "metadata": {},
   "outputs": [],
   "source": [
    "# Creating the function to come up with recommendations\n",
    "def recommendation(song_df, num_song):\n",
    "    idx = df[df[\"song\"] == song_df].index[0]\n",
    "    distances = sorted(list(enumerate(similarity[idx])),reverse=True,key=lambda x:x[1])\n",
    "    \n",
    "    artists = []\n",
    "    songs = []\n",
    "    for m_id in distances[1:(num_song+1)]:\n",
    "        songs.append(df.iloc[m_id[0]].song)\n",
    "        artists.append(df.iloc[m_id[0]].artist)\n",
    "        \n",
    "    return artists, songs"
   ]
  },
  {
   "cell_type": "code",
   "execution_count": 22,
   "id": "b0b458a1",
   "metadata": {},
   "outputs": [
    {
     "name": "stdout",
     "output_type": "stream",
     "text": [
      "How many songs do you want us to recommend: wsdgf\n",
      "\n",
      "Please enter an integer value.\n",
      "How many songs do you want us to recommend: adf\n",
      "\n",
      "Please enter an integer value.\n",
      "How many songs do you want us to recommend: 56\n",
      "\n",
      "Give us a song: iodıjfvx\n",
      "\n",
      "Please select a song from the data set, e.g. Oh, Such A Stranger\n",
      "Give us a song: sdf\n",
      "\n",
      "Please select a song from the data set, e.g. Have I Told You Lately That I Love You\n",
      "Give us a song: sdf\n",
      "\n",
      "Please select a song from the data set, e.g. Dreidel\n",
      "Give us a song: Dreidel\n",
      "\n",
      "\n",
      "Discoverify recommends you these songs:\n",
      "\n",
      "Extreme - Stop The World\n",
      "Veruca Salt - Get Back\n",
      "Christina Aguilera - Make The World Move\n",
      "Lionel Richie - Can't Slow Down\n",
      "Lloyd Cole - Forest Fire\n",
      "Reo Speedwagon - She's Gonna' Love Me\n",
      "Tears For Fears - Falling Down\n",
      "Proclaimers - Spinning Around In The Air\n",
      "Kirk Franklin - Gonna Be A Lovely Day\n",
      "Alabama - Life's Too Short To Love This Fast\n",
      "Tim McGraw - One Of These Days\n",
      "Overkill - Wish You Were Dead\n",
      "Pet Shop Boys - What Have I Done To Deserve This?\n",
      "Ufo - Unraveled\n",
      "Freestyle - So Slow\n",
      "Fun. - The Gambler\n",
      "Uncle Kracker - Happy\n",
      "Westlife - Leaving\n",
      "Maroon 5 - The Fog\n",
      "Our Lady Peace - Don't Stop\n",
      "Les Miserables - Turning\n",
      "Stevie Wonder - Fun Day\n",
      "Cyndi Lauper - Shine\n",
      "Toto - Lovers In The Night\n",
      "Our Lady Peace - Drive\n",
      "Faith Hill - I Ain't Gonna Take It Anymore\n",
      "Bon Jovi - Everyday\n",
      "Kate Bush - Scares Me Silly\n",
      "Yeah Yeah Yeahs - Turn Into\n",
      "Flo-Rida - Come With Me\n",
      "Supertramp - Oh Darling\n",
      "Cat Stevens - I'm Gonna Be King\n",
      "O.A.R. - Wonderful Day\n",
      "Oasis - Love Like A Bomb\n",
      "Janis Joplin - Down On Me (in Album Cheaper Thrills )\n",
      "Johnny Cash - I Just Thought You'd Like To Know\n",
      "Kirk Franklin - All We Have Is Now\n",
      "Counting Crows - Jaded\n",
      "Selena Gomez - Round And Round\n",
      "Justin Bieber - Born To Be Somebody\n",
      "Cliff Richard - Even If It Breaks My Heart\n",
      "Train - Swaying\n",
      "Wanda Jackson - Rip It Up\n",
      "Hanson - Watch Over Me\n",
      "Coldplay - How You See The World\n",
      "Luther Vandross - I Can Tell You That\n",
      "Lucky Dube - Money Money Money\n",
      "Fastball - This Is Not My Life\n",
      "Leo Sayer - 'til You Come Back To Me\n",
      "America - All My Life\n",
      "Whitesnake - Ain't Gonna Cry No More\n",
      "Linkin Park - Runaway\n",
      "Ultravox - One Small Day\n",
      "Counting Crows - High Life\n",
      "P!nk - I'm So Excited\n",
      "Point Of Grace - Every Move I Make\n"
     ]
    }
   ],
   "source": [
    "# Getting a input from the user\n",
    "while True:\n",
    "    try:\n",
    "        num = int(input(\"How many songs do you want us to recommend: \"))\n",
    "        break\n",
    "    except ValueError:\n",
    "        print(\"\\nPlease enter an integer value.\")\n",
    "\n",
    "song = input(\"\\nGive us a song: \")\n",
    "while song not in list(df[\"song\"]):\n",
    "    print(\"\\nPlease select a song from the data set, e.g. {}\".format(df[\"song\"][random.choice(df[\"text\"].index)]))\n",
    "    song = input(\"Give us a song: \")\n",
    "\n",
    "# Serving our listener the suggestions\n",
    "print(\"\\n\\nDiscoverify recommends you these songs:\\n\")\n",
    "artists, songs = recommendation(song, num)\n",
    "for i in range(num):\n",
    "    print(artists[i], \"-\", songs[i])"
   ]
  },
  {
   "cell_type": "code",
   "execution_count": null,
   "id": "21b003f1",
   "metadata": {},
   "outputs": [],
   "source": []
  }
 ],
 "metadata": {
  "kernelspec": {
   "display_name": "Python 3 (ipykernel)",
   "language": "python",
   "name": "python3"
  },
  "language_info": {
   "codemirror_mode": {
    "name": "ipython",
    "version": 3
   },
   "file_extension": ".py",
   "mimetype": "text/x-python",
   "name": "python",
   "nbconvert_exporter": "python",
   "pygments_lexer": "ipython3",
   "version": "3.10.7"
  }
 },
 "nbformat": 4,
 "nbformat_minor": 5
}
